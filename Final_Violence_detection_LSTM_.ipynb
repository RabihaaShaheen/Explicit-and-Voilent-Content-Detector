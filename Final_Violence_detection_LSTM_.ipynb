{
  "nbformat": 4,
  "nbformat_minor": 0,
  "metadata": {
    "accelerator": "GPU",
    "colab": {
      "name": "Final Violence detection LSTM .ipynb",
      "provenance": []
    },
    "kernelspec": {
      "display_name": "Python 3",
      "name": "python3"
    },
    "language_info": {
      "name": "python"
    }
  },
  "cells": [
    {
      "cell_type": "code",
      "metadata": {
        "colab": {
          "base_uri": "https://localhost:8080/"
        },
        "id": "iZijcOi6SXIo",
        "outputId": "5ec18767-9da3-4c5f-8c92-e6b7136f3ea1"
      },
      "source": [
        "import os\n",
        "import platform\n",
        "from IPython.display import clear_output\n",
        "print(platform.platform())\n",
        "\n",
        "def resolve_dir(Dir):\n",
        "    if not os.path.exists(Dir):\n",
        "        os.mkdir(Dir)\n",
        "\n",
        "def reset_path(Dir):\n",
        "    if not os.path.exists(Dir):\n",
        "        os.mkdir(Dir)\n",
        "    else:\n",
        "        os.system('rm -f {}/*'.format( Dir))"
      ],
      "execution_count": 1,
      "outputs": [
        {
          "output_type": "stream",
          "text": [
            "Linux-5.4.109+-x86_64-with-Ubuntu-18.04-bionic\n"
          ],
          "name": "stdout"
        }
      ]
    },
    {
      "cell_type": "code",
      "metadata": {
        "id": "8vEsQ0lUYtqN"
      },
      "source": [
        "from zipfile import ZipFile\n",
        "zf = ZipFile('/content/drive/MyDrive/content/VideoViolence.zip', 'r')\n",
        "zf.extractall('videoData')\n",
        "zf.close()"
      ],
      "execution_count": 2,
      "outputs": []
    },
    {
      "cell_type": "code",
      "metadata": {
        "id": "q5s-RxKpSeJQ"
      },
      "source": [
        "import os\n",
        "import cv2\n",
        "import numpy as np\n",
        "np.random.seed(1337) # just for reproducibility\n",
        "import tensorflow\n",
        "from tensorflow import keras\n",
        "from tensorflow.keras import applications\n",
        "from tensorflow.keras.preprocessing.image import ImageDataGenerator\n",
        "from tensorflow.keras.optimizers import SGD\n",
        "from tensorflow.keras import Model, Sequential\n",
        "import tensorflow.keras.layers\n",
        "from tensorflow.keras.layers import Dropout, Dense, Flatten\n",
        "from tensorflow.keras.layers import ConvLSTM2D\n",
        "from sklearn.model_selection import train_test_split\n",
        "import tensorflow.keras.metrics as km\n",
        "from sklearn.metrics import classification_report\n",
        "from sklearn.metrics import accuracy_score\n",
        "from sklearn.metrics import precision_score\n",
        "from sklearn.metrics import recall_score\n",
        "from sklearn.metrics import f1_score\n",
        "from sklearn.metrics import cohen_kappa_score\n",
        "from sklearn.metrics import roc_auc_score"
      ],
      "execution_count": 3,
      "outputs": []
    },
    {
      "cell_type": "code",
      "metadata": {
        "id": "V_eKwqcWSgjd"
      },
      "source": [
        "data_dir = \"/content/videoData/Real Life Violence Dataset\"\n",
        "img_height , img_width = 90, 90\n",
        "seq_len = 40\n",
        " \n",
        "classes = [\"NonViolence\", \"Violence\"]"
      ],
      "execution_count": 4,
      "outputs": []
    },
    {
      "cell_type": "code",
      "metadata": {
        "id": "X3sk8xbfXKP1"
      },
      "source": [
        "#  Creating frames from videos\n",
        " \n",
        "def frames_extraction(video_path):\n",
        "    frames_list = []\n",
        "     \n",
        "    vidObj = cv2.VideoCapture(video_path)\n",
        "    # Used as counter variable \n",
        "    count = 1\n",
        " \n",
        "    while count <= seq_len: \n",
        "        success, image = vidObj.read() \n",
        "        if success:\n",
        "            image = cv2.resize(image, (img_height, img_width))\n",
        "            frames_list.append(image)\n",
        "            count += 1\n",
        "        else:\n",
        "            print(\"Defected frame\")\n",
        "            break\n",
        " \n",
        "            \n",
        "    return frames_list"
      ],
      "execution_count": 5,
      "outputs": []
    },
    {
      "cell_type": "code",
      "metadata": {
        "colab": {
          "base_uri": "https://localhost:8080/"
        },
        "id": "WQN-7AVPXLoS",
        "outputId": "01058891-f44d-422b-daf7-5d589ed72b79"
      },
      "source": [
        "def create_data(input_dir):\n",
        "    X = []\n",
        "    Y = []\n",
        "     \n",
        "    classes_list = os.listdir(input_dir)\n",
        "     \n",
        "    for c in classes_list:\n",
        "        print(c)\n",
        "        files_list = os.listdir(os.path.join(input_dir, c))\n",
        "        for f in files_list[:600]:\n",
        "            frames = frames_extraction(os.path.join(os.path.join(input_dir, c), f))\n",
        "            if len(frames) == seq_len:\n",
        "                X.append(frames)\n",
        "             \n",
        "                y = [0]*len(classes)\n",
        "                y[classes.index(c)] = 1\n",
        "                Y.append(y)\n",
        "     \n",
        "    X = np.asarray(X)\n",
        "    Y = np.asarray(Y)\n",
        "    return X, Y\n",
        " \n",
        "X, Y = create_data(data_dir)"
      ],
      "execution_count": 6,
      "outputs": [
        {
          "output_type": "stream",
          "text": [
            "Violence\n",
            "NonViolence\n",
            "Defected frame\n"
          ],
          "name": "stdout"
        }
      ]
    },
    {
      "cell_type": "code",
      "metadata": {
        "id": "ohKVBmSSXM0b",
        "colab": {
          "base_uri": "https://localhost:8080/"
        },
        "outputId": "a87c65b9-3327-4ea0-f9e2-2f50ca49694d"
      },
      "source": [
        "print(np.shape(X))\n",
        "print(np.shape(Y))"
      ],
      "execution_count": 7,
      "outputs": [
        {
          "output_type": "stream",
          "text": [
            "(1199, 40, 90, 90, 3)\n",
            "(1199, 2)\n"
          ],
          "name": "stdout"
        }
      ]
    },
    {
      "cell_type": "code",
      "metadata": {
        "id": "QUY5wCFcXNpU"
      },
      "source": [
        "X_train, X_test, y_train, y_test = train_test_split(X, Y, test_size=0.2, shuffle=True, random_state=1)"
      ],
      "execution_count": 8,
      "outputs": []
    },
    {
      "cell_type": "code",
      "metadata": {
        "id": "h7oBKQ6NXPPP"
      },
      "source": [
        "model = Sequential()\n",
        "model.add(ConvLSTM2D(filters = 72, kernel_size = (3, 3), return_sequences = False, data_format = \"channels_last\", input_shape = (seq_len, img_height, img_width, 3)))\n",
        "model.add(Dropout(0.2))\n",
        "model.add(Flatten())\n",
        "model.add(Dense(254, activation=\"relu\"))\n",
        "model.add(Dropout(0.3))\n",
        "model.add(Dense(2, activation = \"softmax\"))"
      ],
      "execution_count": 9,
      "outputs": []
    },
    {
      "cell_type": "code",
      "metadata": {
        "id": "cv9xpy53XQKr",
        "colab": {
          "base_uri": "https://localhost:8080/"
        },
        "outputId": "f114833c-572d-4ef2-fea6-37b94db61143"
      },
      "source": [
        "model.summary()"
      ],
      "execution_count": 10,
      "outputs": [
        {
          "output_type": "stream",
          "text": [
            "Model: \"sequential\"\n",
            "_________________________________________________________________\n",
            "Layer (type)                 Output Shape              Param #   \n",
            "=================================================================\n",
            "conv_lst_m2d (ConvLSTM2D)    (None, 88, 88, 72)        194688    \n",
            "_________________________________________________________________\n",
            "dropout (Dropout)            (None, 88, 88, 72)        0         \n",
            "_________________________________________________________________\n",
            "flatten (Flatten)            (None, 557568)            0         \n",
            "_________________________________________________________________\n",
            "dense (Dense)                (None, 254)               141622526 \n",
            "_________________________________________________________________\n",
            "dropout_1 (Dropout)          (None, 254)               0         \n",
            "_________________________________________________________________\n",
            "dense_1 (Dense)              (None, 2)                 510       \n",
            "=================================================================\n",
            "Total params: 141,817,724\n",
            "Trainable params: 141,817,724\n",
            "Non-trainable params: 0\n",
            "_________________________________________________________________\n"
          ],
          "name": "stdout"
        }
      ]
    },
    {
      "cell_type": "code",
      "metadata": {
        "id": "ihtyRx5lXRCG"
      },
      "source": [
        "\n",
        "\n",
        "opt = SGD(lr=0.001)\n",
        "model.compile(loss='categorical_crossentropy', optimizer=opt, metrics=[\"accuracy\"])\n",
        "\n"
      ],
      "execution_count": 11,
      "outputs": []
    },
    {
      "cell_type": "code",
      "metadata": {
        "colab": {
          "base_uri": "https://localhost:8080/"
        },
        "id": "5wVz_5pyXR7X",
        "outputId": "e89284a7-78e0-4f06-b40e-0034353a6507"
      },
      "source": [
        "\n",
        "history = model.fit(x=X_train, y=y_train, epochs=10, batch_size = 2,validation_split=0.2)\n"
      ],
      "execution_count": 12,
      "outputs": [
        {
          "output_type": "stream",
          "text": [
            "Epoch 1/10\n",
            "384/384 [==============================] - 566s 1s/step - loss: 2.4386 - accuracy: 0.5481 - val_loss: 0.5682 - val_accuracy: 0.6771\n",
            "Epoch 2/10\n",
            "384/384 [==============================] - 533s 1s/step - loss: 0.4728 - accuracy: 0.8195 - val_loss: 0.5077 - val_accuracy: 0.7083\n",
            "Epoch 3/10\n",
            "384/384 [==============================] - 532s 1s/step - loss: 0.3470 - accuracy: 0.8819 - val_loss: 0.6602 - val_accuracy: 0.6510\n",
            "Epoch 4/10\n",
            "384/384 [==============================] - 532s 1s/step - loss: 0.2070 - accuracy: 0.9418 - val_loss: 1.4369 - val_accuracy: 0.5938\n",
            "Epoch 5/10\n",
            "384/384 [==============================] - 530s 1s/step - loss: 0.1505 - accuracy: 0.9659 - val_loss: 0.4629 - val_accuracy: 0.7865\n",
            "Epoch 6/10\n",
            "384/384 [==============================] - 533s 1s/step - loss: 0.1881 - accuracy: 0.9298 - val_loss: 0.5555 - val_accuracy: 0.7344\n",
            "Epoch 7/10\n",
            "384/384 [==============================] - 532s 1s/step - loss: 0.0488 - accuracy: 0.9919 - val_loss: 0.5489 - val_accuracy: 0.7969\n",
            "Epoch 8/10\n",
            "384/384 [==============================] - 533s 1s/step - loss: 0.0194 - accuracy: 0.9999 - val_loss: 0.5836 - val_accuracy: 0.7604\n",
            "Epoch 9/10\n",
            "384/384 [==============================] - 532s 1s/step - loss: 0.0459 - accuracy: 0.9920 - val_loss: 0.5575 - val_accuracy: 0.8021\n",
            "Epoch 10/10\n",
            "384/384 [==============================] - 532s 1s/step - loss: 0.0176 - accuracy: 0.9996 - val_loss: 0.4953 - val_accuracy: 0.8229\n"
          ],
          "name": "stdout"
        }
      ]
    },
    {
      "cell_type": "code",
      "metadata": {
        "id": "ZmU0juEWXTDD"
      },
      "source": [
        "\n",
        "\n",
        "model.save('./cctvkaggle.h5')\n",
        "\n"
      ],
      "execution_count": 13,
      "outputs": []
    },
    {
      "cell_type": "code",
      "metadata": {
        "id": "5HWotlRPXT4c",
        "colab": {
          "base_uri": "https://localhost:8080/",
          "height": 34
        },
        "outputId": "e397b1df-81ad-4dd1-b1ad-99fc355ae585"
      },
      "source": [
        "from IPython.display import FileLink\n",
        "FileLink(r'./cctvkaggle.h5')"
      ],
      "execution_count": null,
      "outputs": [
        {
          "output_type": "execute_result",
          "data": {
            "text/html": [
              "<a href='./cctvkaggle.h5' target='_blank'>./cctvkaggle.h5</a><br>"
            ],
            "text/plain": [
              "/content/cctvkaggle.h5"
            ]
          },
          "metadata": {
            "tags": []
          },
          "execution_count": 14
        }
      ]
    },
    {
      "cell_type": "code",
      "metadata": {
        "id": "67HS8OyVXVXz"
      },
      "source": [
        "y_pred = model.predict(X_test)"
      ],
      "execution_count": null,
      "outputs": []
    },
    {
      "cell_type": "code",
      "metadata": {
        "id": "5BF9hlodXWYm"
      },
      "source": [
        "y_pred = np.argmax(y_pred, axis = 1)\n",
        "y_test = np.argmax(y_test, axis = 1)"
      ],
      "execution_count": null,
      "outputs": []
    },
    {
      "cell_type": "code",
      "metadata": {
        "colab": {
          "base_uri": "https://localhost:8080/"
        },
        "id": "pZq3LBoyhuJG",
        "outputId": "3b82225e-4a3c-429b-9beb-acb310de55c2"
      },
      "source": [
        "from sklearn.metrics import accuracy_score\n",
        "\n",
        "print(accuracy_score( y_pred,y_test))"
      ],
      "execution_count": null,
      "outputs": [
        {
          "output_type": "stream",
          "text": [
            "0.5791666666666667\n"
          ],
          "name": "stdout"
        }
      ]
    },
    {
      "cell_type": "code",
      "metadata": {
        "id": "4L63hs-zXYb0",
        "colab": {
          "base_uri": "https://localhost:8080/",
          "height": 295
        },
        "outputId": "c754080d-7402-48bd-c4d4-ecc06d1f3bae"
      },
      "source": [
        "import matplotlib.pyplot as plt\n",
        "\n",
        "plt.plot(history.history['accuracy'])\n",
        "plt.plot(history.history['val_accuracy'])\n",
        "plt.title('model accuracy')\n",
        "plt.ylabel('accuracy')\n",
        "plt.xlabel('epoch')\n",
        "plt.legend(['train', 'test'], loc='upper left')\n",
        "plt.show()"
      ],
      "execution_count": null,
      "outputs": [
        {
          "output_type": "display_data",
          "data": {
            "image/png": "[encoded data removed]",
            "text/plain": [
              "<Figure size 432x288 with 1 Axes>"
            ]
          },
          "metadata": {
            "tags": [],
            "needs_background": "light"
          }
        }
      ]
    },
    {
      "cell_type": "markdown",
      "metadata": {
        "id": "1pU968znXgQU"
      },
      "source": [
        ""
      ]
    },
    {
      "cell_type": "code",
      "metadata": {
        "id": "XgzUnYBvXgXH",
        "colab": {
          "base_uri": "https://localhost:8080/"
        },
        "outputId": "1f612328-e05b-4913-e025-0ecd397ab824"
      },
      "source": [
        "from keras.models import load_model\n",
        "import cv2\n",
        "import numpy as np\n",
        "\n",
        "model = load_model('./cctvkaggle.h5')\n",
        "\n",
        "video_path = '/content/fight2.mp4'\n",
        "category =['NonViolence', 'Violence']\n",
        "frames = []\n",
        "frame_count = 0\n",
        "queue=[]\n",
        "try:\n",
        "    capture = cv2.VideoCapture(video_path)\n",
        "    while (capture.isOpened()):\n",
        "        ret, frame = capture.read()\n",
        "          # Bail out when the video file ends\n",
        "        frame = cv2.resize(frame, (90, 90))\n",
        "        if not ret:\n",
        "            break\n",
        "\n",
        "    # Save each frame of the video to a list\n",
        "        frame_count += 1\n",
        "        frames.append(frame)\n",
        "\n",
        "        if frame_count < 5:\n",
        "            continue # capture frames until you get the required number for sequence\n",
        "        else:\n",
        "            frame_count = 0\n",
        "    # For each frame, extract feature and prepare it for classification\n",
        "        sequence = []\n",
        "        for image in frames:\n",
        "            sequence.append(image) \n",
        "\n",
        "        prediction = model.predict(np.expand_dims(sequence, axis=0))\n",
        "        print(prediction)\n",
        "        queue.append(prediction)\n",
        "        results = np.array(queue).mean(axis=0)\n",
        "        i = category[np.argmax(results)]\n",
        "except Exception as e:\n",
        "    print(str(e))\n",
        "print('Predicted: '+ i)\n",
        "capture.release()"
      ],
      "execution_count": null,
      "outputs": [
        {
          "output_type": "stream",
          "text": [
            "WARNING:tensorflow:Model was constructed with shape (None, 40, 90, 90, 3) for input KerasTensor(type_spec=TensorSpec(shape=(None, 40, 90, 90, 3), dtype=tf.float32, name='conv_lst_m2d_input'), name='conv_lst_m2d_input', description=\"created by layer 'conv_lst_m2d_input'\"), but it was called on an input with incompatible shape (None, 5, 90, 90, 3).\n",
            "[[0.41666853 0.5833315 ]]\n",
            "WARNING:tensorflow:Model was constructed with shape (None, 40, 90, 90, 3) for input KerasTensor(type_spec=TensorSpec(shape=(None, 40, 90, 90, 3), dtype=tf.float32, name='conv_lst_m2d_input'), name='conv_lst_m2d_input', description=\"created by layer 'conv_lst_m2d_input'\"), but it was called on an input with incompatible shape (None, 10, 90, 90, 3).\n",
            "[[0.41976818 0.5802318 ]]\n",
            "[[0.41522223 0.5847778 ]]\n",
            "[[0.40017974 0.5998203 ]]\n",
            "[[0.40443572 0.59556425]]\n",
            "[[0.4123162 0.5876838]]\n",
            "[[0.42025653 0.57974344]]\n",
            "[[0.40424776 0.59575224]]\n",
            "[[0.4190498 0.5809502]]\n",
            "[[0.41132095 0.588679  ]]\n",
            "[[0.41117638 0.5888236 ]]\n",
            "[[0.4196508 0.5803492]]\n",
            "[[0.41292518 0.5870748 ]]\n",
            "[[0.4023014 0.5976986]]\n",
            "[[0.4038523  0.59614766]]\n",
            "[[0.39715523 0.6028448 ]]\n",
            "[[0.40083396 0.59916604]]\n",
            "[[0.40124217 0.5987578 ]]\n",
            "[[0.39947847 0.60052156]]\n",
            "[[0.39723557 0.6027645 ]]\n",
            "[[0.40724495 0.5927551 ]]\n",
            "[[0.39723358 0.6027664 ]]\n",
            "[[0.40671626 0.5932838 ]]\n",
            "[[0.40497494 0.59502506]]\n",
            "[[0.38865328 0.6113468 ]]\n",
            "[[0.39746633 0.6025337 ]]\n",
            "[[0.3979475 0.6020525]]\n",
            "[[0.39749315 0.6025069 ]]\n",
            "[[0.39768827 0.6023117 ]]\n",
            "[[0.40170363 0.59829634]]\n",
            "[[0.3938469  0.60615313]]\n",
            "[[0.40389723 0.5961027 ]]\n",
            "[[0.404374 0.595626]]\n",
            "[[0.39743614 0.60256386]]\n",
            "[[0.39367408 0.6063259 ]]\n",
            "[[0.4003625  0.59963757]]\n",
            "[[0.40152183 0.59847814]]\n",
            "[[0.4086995  0.59130055]]\n",
            "[[0.39928702 0.60071295]]\n",
            "[[0.41171262 0.5882874 ]]\n",
            "[[0.41611764 0.58388233]]\n",
            "[[0.41476744 0.58523256]]\n",
            "[[0.3996215 0.6003785]]\n",
            "[[0.407059 0.592941]]\n",
            "[[0.39142573 0.6085743 ]]\n",
            "[[0.40317887 0.5968211 ]]\n",
            "[[0.40608433 0.59391564]]\n",
            "[[0.39764866 0.60235137]]\n",
            "OpenCV(4.1.2) /io/opencv/modules/imgproc/src/resize.cpp:3720: error: (-215:Assertion failed) !ssize.empty() in function 'resize'\n",
            "\n",
            "Predicted: Violence\n"
          ],
          "name": "stdout"
        }
      ]
    },
    {
      "cell_type": "code",
      "metadata": {
        "colab": {
          "base_uri": "https://localhost:8080/",
          "height": 136
        },
        "id": "sSy6IA5x05XV",
        "outputId": "3a1b5de5-49b3-4b8d-b178-160e6d1b5146"
      },
      "source": [
        "from keras.models import load_model\n",
        "import cv2\n",
        "import numpy as np\n",
        "\n",
        "\n",
        "model = load_model('./cctvkaggle.h5')\n",
        "\n",
        "video_path = '/content/fight2.mp4'\n",
        "category =['NonViolence', 'Violence']\n",
        "frames = []\n",
        "frame_count = 0\n",
        "queue=[]\n",
        "try:\n",
        "    capture = cv2.VideoCapture(video_path)\n",
        "    while (capture.isOpened()):\n",
        "        ret, frame = capture.read()\n",
        "          # Bail out when the video file ends\n",
        "        frame = cv2.resize(frame, (90, 90))\n",
        "        if not ret:\n",
        "            break\n",
        "\n",
        "    # Save each frame of the video to a list\n",
        "        frame_count += 1\n",
        "        frames.append(frame)\n",
        "\n",
        "        if frame_count < 5:\n",
        "            continue # capture frames until you get the required number for sequence\n",
        "        else:\n",
        "            frame_count = 0\n",
        "    # For each frame, extract feature and prepare it for classification\n",
        "        sequence = []\n",
        "        for image in frames:\n",
        "            sequence.append(image) \n",
        "\n",
        "        prediction = model.predict(np.expand_dims(sequence, axis=0))\n",
        "        print(prediction)\n",
        "        queue.append(prediction)\n",
        "        results = np.array(queue).mean(axis=0)\n",
        "        i = category[np.argmax(results)]\n",
        "except Exception as e:\n",
        "    print(str(e))\n",
        "print('Predicted: '+ i)\n",
        "capture.release()"
      ],
      "execution_count": null,
      "outputs": [
        {
          "output_type": "error",
          "ename": "SyntaxError",
          "evalue": "ignored",
          "traceback": [
            "\u001b[0;36m  File \u001b[0;32m\"<ipython-input-21-b7451c3bc1d5>\"\u001b[0;36m, line \u001b[0;32m6\u001b[0m\n\u001b[0;31m    def load_model\u001b[0m\n\u001b[0m                  ^\u001b[0m\n\u001b[0;31mSyntaxError\u001b[0m\u001b[0;31m:\u001b[0m invalid syntax\n"
          ]
        }
      ]
    },
    {
      "cell_type": "code",
      "metadata": {
        "id": "0pmYIVHB07LP"
      },
      "source": [
        ""
      ],
      "execution_count": null,
      "outputs": []
    }
  ]
}