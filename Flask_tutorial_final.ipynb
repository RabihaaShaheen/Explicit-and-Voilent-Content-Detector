{
  "nbformat": 4,
  "nbformat_minor": 0,
  "metadata": {
    "colab": {
      "name": "Flask_tutorial_final.ipynb",
      "provenance": [],
      "collapsed_sections": []
    },
    "kernelspec": {
      "name": "python3",
      "display_name": "Python 3"
    },
    "language_info": {
      "name": "python"
    },
    "accelerator": "GPU"
  },
  "cells": [
    {
      "cell_type": "code",
      "metadata": {
        "colab": {
          "base_uri": "https://localhost:8080/"
        },
        "id": "R8_HzYOmxBdd",
        "outputId": "7120563d-514c-436f-d997-8a575a505559"
      },
      "source": [
        "pip install flask-ngrok"
      ],
      "execution_count": 1,
      "outputs": [
        {
          "output_type": "stream",
          "text": [
            "Collecting flask-ngrok\n",
            "  Downloading flask_ngrok-0.0.25-py3-none-any.whl (3.1 kB)\n",
            "Requirement already satisfied: requests in /usr/local/lib/python3.7/dist-packages (from flask-ngrok) (2.23.0)\n",
            "Requirement already satisfied: Flask>=0.8 in /usr/local/lib/python3.7/dist-packages (from flask-ngrok) (1.1.4)\n",
            "Requirement already satisfied: itsdangerous<2.0,>=0.24 in /usr/local/lib/python3.7/dist-packages (from Flask>=0.8->flask-ngrok) (1.1.0)\n",
            "Requirement already satisfied: click<8.0,>=5.1 in /usr/local/lib/python3.7/dist-packages (from Flask>=0.8->flask-ngrok) (7.1.2)\n",
            "Requirement already satisfied: Werkzeug<2.0,>=0.15 in /usr/local/lib/python3.7/dist-packages (from Flask>=0.8->flask-ngrok) (1.0.1)\n",
            "Requirement already satisfied: Jinja2<3.0,>=2.10.1 in /usr/local/lib/python3.7/dist-packages (from Flask>=0.8->flask-ngrok) (2.11.3)\n",
            "Requirement already satisfied: MarkupSafe>=0.23 in /usr/local/lib/python3.7/dist-packages (from Jinja2<3.0,>=2.10.1->Flask>=0.8->flask-ngrok) (2.0.1)\n",
            "Requirement already satisfied: chardet<4,>=3.0.2 in /usr/local/lib/python3.7/dist-packages (from requests->flask-ngrok) (3.0.4)\n",
            "Requirement already satisfied: certifi>=2017.4.17 in /usr/local/lib/python3.7/dist-packages (from requests->flask-ngrok) (2021.5.30)\n",
            "Requirement already satisfied: idna<3,>=2.5 in /usr/local/lib/python3.7/dist-packages (from requests->flask-ngrok) (2.10)\n",
            "Requirement already satisfied: urllib3!=1.25.0,!=1.25.1,<1.26,>=1.21.1 in /usr/local/lib/python3.7/dist-packages (from requests->flask-ngrok) (1.24.3)\n",
            "Installing collected packages: flask-ngrok\n",
            "Successfully installed flask-ngrok-0.0.25\n"
          ],
          "name": "stdout"
        }
      ]
    },
    {
      "cell_type": "code",
      "metadata": {
        "colab": {
          "base_uri": "https://localhost:8080/"
        },
        "id": "OMky5xDd0xXD",
        "outputId": "ece0a948-c370-4742-af60-b9d133e2d9e4"
      },
      "source": [
        "pip install youtube_dl"
      ],
      "execution_count": 2,
      "outputs": [
        {
          "output_type": "stream",
          "text": [
            "Collecting youtube_dl\n",
            "  Downloading youtube_dl-2021.6.6-py2.py3-none-any.whl (1.9 MB)\n",
            "\u001b[K     |████████████████████████████████| 1.9 MB 7.7 MB/s \n",
            "\u001b[?25hInstalling collected packages: youtube-dl\n",
            "Successfully installed youtube-dl-2021.6.6\n"
          ],
          "name": "stdout"
        }
      ]
    },
    {
      "cell_type": "code",
      "metadata": {
        "colab": {
          "base_uri": "https://localhost:8080/"
        },
        "id": "gEhi247CPnBa",
        "outputId": "9c83ac38-da89-474f-daf0-f18aae417079"
      },
      "source": [
        "pip install -U flask-cors"
      ],
      "execution_count": 3,
      "outputs": [
        {
          "output_type": "stream",
          "text": [
            "Collecting flask-cors\n",
            "  Downloading Flask_Cors-3.0.10-py2.py3-none-any.whl (14 kB)\n",
            "Requirement already satisfied: Flask>=0.9 in /usr/local/lib/python3.7/dist-packages (from flask-cors) (1.1.4)\n",
            "Requirement already satisfied: Six in /usr/local/lib/python3.7/dist-packages (from flask-cors) (1.15.0)\n",
            "Requirement already satisfied: itsdangerous<2.0,>=0.24 in /usr/local/lib/python3.7/dist-packages (from Flask>=0.9->flask-cors) (1.1.0)\n",
            "Requirement already satisfied: Jinja2<3.0,>=2.10.1 in /usr/local/lib/python3.7/dist-packages (from Flask>=0.9->flask-cors) (2.11.3)\n",
            "Requirement already satisfied: click<8.0,>=5.1 in /usr/local/lib/python3.7/dist-packages (from Flask>=0.9->flask-cors) (7.1.2)\n",
            "Requirement already satisfied: Werkzeug<2.0,>=0.15 in /usr/local/lib/python3.7/dist-packages (from Flask>=0.9->flask-cors) (1.0.1)\n",
            "Requirement already satisfied: MarkupSafe>=0.23 in /usr/local/lib/python3.7/dist-packages (from Jinja2<3.0,>=2.10.1->Flask>=0.9->flask-cors) (2.0.1)\n",
            "Installing collected packages: flask-cors\n",
            "Successfully installed flask-cors-3.0.10\n"
          ],
          "name": "stdout"
        }
      ]
    },
    {
      "cell_type": "code",
      "metadata": {
        "colab": {
          "base_uri": "https://localhost:8080/"
        },
        "id": "iITZTBRA2HBA",
        "outputId": "e9edde8e-aed2-4bd0-d0d9-66d43e54ca83"
      },
      "source": [
        "from google.colab import drive\n",
        "drive.mount('/content/drive')"
      ],
      "execution_count": 4,
      "outputs": [
        {
          "output_type": "stream",
          "text": [
            "Mounted at /content/drive\n"
          ],
          "name": "stdout"
        }
      ]
    },
    {
      "cell_type": "code",
      "metadata": {
        "id": "vFRv-1K2xMf7",
        "colab": {
          "base_uri": "https://localhost:8080/"
        },
        "outputId": "af586ccf-3d5d-42c8-fda4-c51aac02a729"
      },
      "source": [
        "from flask import Flask\n",
        "from flask_ngrok import run_with_ngrok\n",
        "from keras.models import load_model\n",
        "import cv2\n",
        "import numpy as np\n",
        "from flask_cors import CORS\n",
        "from flask import jsonify\n",
        "from __future__ import unicode_literals\n",
        "import youtube_dl\n",
        "import time\n",
        "from flask import request\n",
        "app = Flask(__name__)\n",
        "run_with_ngrok(app)  \n",
        "\n",
        "\n",
        "model = load_model('/content/drive/MyDrive/content/cctvkaggle_final.h5')\n",
        "\n",
        "#video_path = '/content/drive/MyDrive/content/fight2.mp4'\n",
        "video_path = ''\n",
        "\n",
        "\n",
        "@app.route(\"/\")\n",
        "def home():\n",
        "    return \"Welcome to flask backend !\"\n",
        "\n",
        "\n",
        "def download_the_video(video_url):\n",
        "  print(\"Video DOWNLOADING STARTED\")\n",
        "  ydl_opts = {'outtmpl': 'videoToTest.mp4'}\n",
        "\n",
        "  with youtube_dl.YoutubeDL(ydl_opts) as ydl:\n",
        "    ydl.download(['https://www.youtube.com/watch?v=ULkzOl70pIQ'])\n",
        "\n",
        "  return 'videoToTest.mp4'\n",
        "                   \n",
        "@app.route(\"/videoURL\")  \n",
        "def predict_by_model():\n",
        "    # before that link the code with the extension\n",
        "    #download the video url and use that video\n",
        "    \n",
        "    videourl = request.args.get('video')\n",
        "    print(str(videourl))\n",
        "    video_title = download_the_video(str(videourl))\n",
        "\n",
        "\n",
        "    video_path = video_title\n",
        "    time.sleep(4)\n",
        "    print(\"Video DOWNLOADED\")\n",
        "    try:\n",
        "      category =['NonViolence', 'Violence']\n",
        "      frames = []\n",
        "      frame_count = 0\n",
        "      queue=[]\n",
        "\n",
        "      capture = cv2.VideoCapture(video_path)\n",
        "      count = 0\n",
        "      while (capture.isOpened() and count < 4):\n",
        "          print(count)\n",
        "          ret, frame = capture.read()\n",
        "            # Bail out when the video file ends\n",
        "          frame = cv2.resize(frame, (90, 90))\n",
        "          if not ret:\n",
        "              break\n",
        "\n",
        "      # Save each frame of the video to a list\n",
        "          frame_count += 1\n",
        "          frames.append(frame)\n",
        "\n",
        "          if frame_count < 4:\n",
        "              continue # capture frames until you get the required number for sequence\n",
        "          else:\n",
        "              frame_count = 0\n",
        "\n",
        "      # For each frame, extract feature and prepare it for classification\n",
        "          sequence = []\n",
        "          for image in frames:\n",
        "              sequence.append(image) \n",
        "\n",
        "          prediction = model.predict(np.expand_dims(sequence, axis=0))\n",
        "          print(prediction)\n",
        "          queue.append(prediction)\n",
        "          count += 1\n",
        "\n",
        "\n",
        "      results = np.array(queue).mean(axis=0)\n",
        "      i = category[np.argmax(results)]\n",
        "     \n",
        "      print('Predicted: '+ i)\n",
        "      capture.release()\n",
        "      return jsonify(statusOfVideo = str(i))\n",
        "    except Exception as e:\n",
        "      return jsonify(statusOfVideo = str(i))\n",
        "     \n",
        "CORS(app)\n",
        "app.run()"
      ],
      "execution_count": null,
      "outputs": [
        {
          "output_type": "stream",
          "text": [
            " * Serving Flask app \"__main__\" (lazy loading)\n",
            " * Environment: production\n",
            "\u001b[31m   WARNING: This is a development server. Do not use it in a production deployment.\u001b[0m\n",
            "\u001b[2m   Use a production WSGI server instead.\u001b[0m\n",
            " * Debug mode: off\n"
          ],
          "name": "stdout"
        },
        {
          "output_type": "stream",
          "text": [
            " * Running on http://127.0.0.1:5000/ (Press CTRL+C to quit)\n"
          ],
          "name": "stderr"
        },
        {
          "output_type": "stream",
          "text": [
            " * Running on http://e9b7057cf35e.ngrok.io\n",
            " * Traffic stats available on http://127.0.0.1:4040\n",
            "https://www.youtube.com/watch?v=Bkd2-QcBl_o\n",
            "Video DOWNLOADING STARTED\n",
            "[youtube] ULkzOl70pIQ: Downloading webpage\n",
            "[youtube] ULkzOl70pIQ: Downloading player 02486e7d\n",
            "[download] Destination: videoToTest.f136.mp4\n",
            "[download] 100% of 19.87MiB in 00:01\n",
            "[download] Destination: videoToTest.mp4.f140\n",
            "[download] 100% of 3.45MiB in 00:00\n",
            "[ffmpeg] Merging formats into \"videoToTest.mp4\"\n",
            "Deleting original file videoToTest.f136.mp4 (pass -k to keep)\n",
            "Deleting original file videoToTest.mp4.f140 (pass -k to keep)\n",
            "Video DOWNLOADED\n",
            "0\n",
            "0\n",
            "0\n",
            "0\n",
            "WARNING:tensorflow:Model was constructed with shape (None, 40, 90, 90, 3) for input KerasTensor(type_spec=TensorSpec(shape=(None, 40, 90, 90, 3), dtype=tf.float32, name='conv_lst_m2d_input'), name='conv_lst_m2d_input', description=\"created by layer 'conv_lst_m2d_input'\"), but it was called on an input with incompatible shape (None, 4, 90, 90, 3).\n",
            "[[0.40085953 0.59914047]]\n",
            "1\n",
            "1\n",
            "1\n",
            "1\n",
            "WARNING:tensorflow:Model was constructed with shape (None, 40, 90, 90, 3) for input KerasTensor(type_spec=TensorSpec(shape=(None, 40, 90, 90, 3), dtype=tf.float32, name='conv_lst_m2d_input'), name='conv_lst_m2d_input', description=\"created by layer 'conv_lst_m2d_input'\"), but it was called on an input with incompatible shape (None, 8, 90, 90, 3).\n",
            "[[0.3551537  0.64484626]]\n",
            "2\n",
            "2\n",
            "2\n",
            "2\n"
          ],
          "name": "stdout"
        },
        {
          "output_type": "stream",
          "text": [
            "127.0.0.1 - - [29/Jul/2021 01:37:58] \"\u001b[37mGET /videoURL?video=https://www.youtube.com/watch?v=Bkd2-QcBl_o HTTP/1.1\u001b[0m\" 200 -\n"
          ],
          "name": "stderr"
        },
        {
          "output_type": "stream",
          "text": [
            "[[0.26682392 0.7331761 ]]\n",
            "3\n",
            "3\n",
            "3\n",
            "3\n",
            "[[0.32835022 0.6716498 ]]\n",
            "Predicted: Violence\n",
            "https://www.youtube.com/watch?v=_5jlfu8N1E0\n",
            "Video DOWNLOADING STARTED\n",
            "[youtube] ULkzOl70pIQ: Downloading webpage\n",
            "[download] videoToTest.mp4 has already been downloaded and merged\n",
            "Video DOWNLOADED\n",
            "0\n",
            "0\n",
            "0\n",
            "0\n",
            "[[0.40085953 0.59914047]]\n",
            "1\n",
            "1\n",
            "1\n",
            "1\n",
            "[[0.3551537  0.64484626]]\n",
            "2\n",
            "2\n",
            "2\n",
            "2\n"
          ],
          "name": "stdout"
        },
        {
          "output_type": "stream",
          "text": [
            "127.0.0.1 - - [29/Jul/2021 01:38:59] \"\u001b[37mGET /videoURL?video=https://www.youtube.com/watch?v=_5jlfu8N1E0 HTTP/1.1\u001b[0m\" 200 -\n"
          ],
          "name": "stderr"
        },
        {
          "output_type": "stream",
          "text": [
            "[[0.26682392 0.7331761 ]]\n",
            "3\n",
            "3\n",
            "3\n",
            "3\n",
            "[[0.32835022 0.6716498 ]]\n",
            "Predicted: Violence\n",
            "https://www.youtube.com/watch?v=_5jlfu8N1E0\n",
            "Video DOWNLOADING STARTED\n",
            "[youtube] ULkzOl70pIQ: Downloading webpage\n",
            "[download] videoToTest.mp4 has already been downloaded and merged\n",
            "Video DOWNLOADED\n",
            "0\n",
            "0\n",
            "0\n",
            "0\n",
            "[[0.40085953 0.59914047]]\n",
            "1\n",
            "1\n",
            "1\n",
            "1\n",
            "[[0.3551537  0.64484626]]\n",
            "2\n",
            "2\n",
            "2\n",
            "2\n"
          ],
          "name": "stdout"
        },
        {
          "output_type": "stream",
          "text": [
            "127.0.0.1 - - [29/Jul/2021 01:39:20] \"\u001b[37mGET /videoURL?video=https://www.youtube.com/watch?v=_5jlfu8N1E0 HTTP/1.1\u001b[0m\" 200 -\n"
          ],
          "name": "stderr"
        },
        {
          "output_type": "stream",
          "text": [
            "[[0.26682392 0.7331761 ]]\n",
            "3\n",
            "3\n",
            "3\n",
            "3\n",
            "[[0.32835022 0.6716498 ]]\n",
            "Predicted: Violence\n",
            "https://www.youtube.com/watch?v=_5jlfu8N1E0\n",
            "Video DOWNLOADING STARTED\n",
            "[youtube] ULkzOl70pIQ: Downloading webpage\n",
            "[download] videoToTest.mp4 has already been downloaded and merged\n",
            "Video DOWNLOADED\n",
            "0\n",
            "0\n",
            "0\n",
            "0\n",
            "[[0.40085953 0.59914047]]\n",
            "1\n",
            "1\n",
            "1\n",
            "1\n",
            "[[0.3551537  0.64484626]]\n",
            "2\n",
            "2\n",
            "2\n",
            "2\n"
          ],
          "name": "stdout"
        },
        {
          "output_type": "stream",
          "text": [
            "127.0.0.1 - - [29/Jul/2021 01:40:54] \"\u001b[37mGET /videoURL?video=https://www.youtube.com/watch?v=_5jlfu8N1E0 HTTP/1.1\u001b[0m\" 200 -\n"
          ],
          "name": "stderr"
        },
        {
          "output_type": "stream",
          "text": [
            "[[0.26682392 0.7331761 ]]\n",
            "3\n",
            "3\n",
            "3\n",
            "3\n",
            "[[0.32835022 0.6716498 ]]\n",
            "Predicted: Violence\n",
            "https://www.youtube.com/watch?v=_5jlfu8N1E0\n",
            "Video DOWNLOADING STARTED\n",
            "[youtube] ULkzOl70pIQ: Downloading webpage\n",
            "[download] videoToTest.mp4 has already been downloaded and merged\n",
            "Video DOWNLOADED\n",
            "0\n",
            "0\n",
            "0\n",
            "0\n",
            "[[0.40085953 0.59914047]]\n",
            "1\n",
            "1\n",
            "1\n",
            "1\n",
            "[[0.3551537  0.64484626]]\n",
            "2\n",
            "2\n",
            "2\n",
            "2\n"
          ],
          "name": "stdout"
        },
        {
          "output_type": "stream",
          "text": [
            "127.0.0.1 - - [29/Jul/2021 01:41:09] \"\u001b[37mGET /videoURL?video=https://www.youtube.com/watch?v=_5jlfu8N1E0 HTTP/1.1\u001b[0m\" 200 -\n"
          ],
          "name": "stderr"
        },
        {
          "output_type": "stream",
          "text": [
            "[[0.26682392 0.7331761 ]]\n",
            "3\n",
            "3\n",
            "3\n",
            "3\n",
            "[[0.32835022 0.6716498 ]]\n",
            "Predicted: Violence\n",
            "https://www.youtube.com/watch?v=_5jlfu8N1E0\n",
            "Video DOWNLOADING STARTED\n",
            "[youtube] ULkzOl70pIQ: Downloading webpage\n",
            "[download] videoToTest.mp4 has already been downloaded and merged\n",
            "Video DOWNLOADED\n",
            "0\n",
            "0\n",
            "0\n",
            "0\n",
            "[[0.40085953 0.59914047]]\n",
            "1\n",
            "1\n",
            "1\n",
            "1\n",
            "[[0.3551537  0.64484626]]\n",
            "2\n",
            "2\n",
            "2\n",
            "2\n"
          ],
          "name": "stdout"
        },
        {
          "output_type": "stream",
          "text": [
            "127.0.0.1 - - [29/Jul/2021 01:41:35] \"\u001b[37mGET /videoURL?video=https://www.youtube.com/watch?v=_5jlfu8N1E0 HTTP/1.1\u001b[0m\" 200 -\n"
          ],
          "name": "stderr"
        },
        {
          "output_type": "stream",
          "text": [
            "[[0.26682392 0.7331761 ]]\n",
            "3\n",
            "3\n",
            "3\n",
            "3\n",
            "[[0.32835022 0.6716498 ]]\n",
            "Predicted: Violence\n",
            "https://www.youtube.com/watch?v=_5jlfu8N1E0\n",
            "Video DOWNLOADING STARTED\n",
            "[youtube] ULkzOl70pIQ: Downloading webpage\n",
            "[download] videoToTest.mp4 has already been downloaded and merged\n",
            "Video DOWNLOADED\n",
            "0\n",
            "0\n",
            "0\n",
            "0\n",
            "[[0.40085953 0.59914047]]\n",
            "1\n",
            "1\n",
            "1\n",
            "1\n",
            "[[0.3551537  0.64484626]]\n",
            "2\n",
            "2\n",
            "2\n",
            "2\n"
          ],
          "name": "stdout"
        },
        {
          "output_type": "stream",
          "text": [
            "127.0.0.1 - - [29/Jul/2021 01:42:57] \"\u001b[37mGET /videoURL?video=https://www.youtube.com/watch?v=_5jlfu8N1E0 HTTP/1.1\u001b[0m\" 200 -\n"
          ],
          "name": "stderr"
        },
        {
          "output_type": "stream",
          "text": [
            "[[0.26682392 0.7331761 ]]\n",
            "3\n",
            "3\n",
            "3\n",
            "3\n",
            "[[0.32835022 0.6716498 ]]\n",
            "Predicted: Violence\n",
            "https://www.youtube.com/watch?v=_5jlfu8N1E0\n",
            "Video DOWNLOADING STARTED\n",
            "[youtube] ULkzOl70pIQ: Downloading webpage\n",
            "[download] videoToTest.mp4 has already been downloaded and merged\n",
            "Video DOWNLOADED\n",
            "0\n",
            "0\n",
            "0\n",
            "0\n",
            "[[0.40085953 0.59914047]]\n",
            "1\n",
            "1\n",
            "1\n",
            "1\n",
            "[[0.3551537  0.64484626]]\n",
            "2\n",
            "2\n",
            "2\n",
            "2\n"
          ],
          "name": "stdout"
        },
        {
          "output_type": "stream",
          "text": [
            "127.0.0.1 - - [29/Jul/2021 01:44:50] \"\u001b[37mGET /videoURL?video=https://www.youtube.com/watch?v=_5jlfu8N1E0 HTTP/1.1\u001b[0m\" 200 -\n"
          ],
          "name": "stderr"
        },
        {
          "output_type": "stream",
          "text": [
            "[[0.26682392 0.7331761 ]]\n",
            "3\n",
            "3\n",
            "3\n",
            "3\n",
            "[[0.32835022 0.6716498 ]]\n",
            "Predicted: Violence\n",
            "https://www.youtube.com/watch?v=_5jlfu8N1E0\n",
            "Video DOWNLOADING STARTED\n",
            "[youtube] ULkzOl70pIQ: Downloading webpage\n",
            "[download] videoToTest.mp4 has already been downloaded and merged\n",
            "Video DOWNLOADED\n",
            "0\n",
            "0\n",
            "0\n",
            "0\n",
            "[[0.40085953 0.59914047]]\n",
            "1\n",
            "1\n",
            "1\n",
            "1\n",
            "[[0.3551537  0.64484626]]\n",
            "2\n",
            "2\n",
            "2\n",
            "2\n"
          ],
          "name": "stdout"
        },
        {
          "output_type": "stream",
          "text": [
            "127.0.0.1 - - [29/Jul/2021 01:47:09] \"\u001b[37mGET /videoURL?video=https://www.youtube.com/watch?v=_5jlfu8N1E0 HTTP/1.1\u001b[0m\" 200 -\n"
          ],
          "name": "stderr"
        },
        {
          "output_type": "stream",
          "text": [
            "[[0.26682392 0.7331761 ]]\n",
            "3\n",
            "3\n",
            "3\n",
            "3\n",
            "[[0.32835022 0.6716498 ]]\n",
            "Predicted: Violence\n",
            "https://www.youtube.com/watch?v=_5jlfu8N1E0\n",
            "Video DOWNLOADING STARTED\n",
            "[youtube] ULkzOl70pIQ: Downloading webpage\n",
            "[download] videoToTest.mp4 has already been downloaded and merged\n",
            "Video DOWNLOADED\n",
            "0\n",
            "0\n",
            "0\n",
            "0\n",
            "[[0.40085953 0.59914047]]\n",
            "1\n",
            "1\n",
            "1\n",
            "1\n",
            "[[0.3551537  0.64484626]]\n",
            "2\n",
            "2\n",
            "2\n",
            "2\n"
          ],
          "name": "stdout"
        },
        {
          "output_type": "stream",
          "text": [
            "127.0.0.1 - - [29/Jul/2021 01:47:38] \"\u001b[37mGET /videoURL?video=https://www.youtube.com/watch?v=_5jlfu8N1E0 HTTP/1.1\u001b[0m\" 200 -\n"
          ],
          "name": "stderr"
        },
        {
          "output_type": "stream",
          "text": [
            "[[0.26682392 0.7331761 ]]\n",
            "3\n",
            "3\n",
            "3\n",
            "3\n",
            "[[0.32835022 0.6716498 ]]\n",
            "Predicted: Violence\n",
            "https://www.youtube.com/watch?v=_5jlfu8N1E0\n",
            "Video DOWNLOADING STARTED\n",
            "[youtube] ULkzOl70pIQ: Downloading webpage\n",
            "[download] videoToTest.mp4 has already been downloaded and merged\n",
            "Video DOWNLOADED\n",
            "0\n",
            "0\n",
            "0\n",
            "0\n",
            "[[0.40085953 0.59914047]]\n",
            "1\n",
            "1\n",
            "1\n",
            "1\n",
            "[[0.3551537  0.64484626]]\n",
            "2\n",
            "2\n",
            "2\n",
            "2\n"
          ],
          "name": "stdout"
        },
        {
          "output_type": "stream",
          "text": [
            "127.0.0.1 - - [29/Jul/2021 01:47:43] \"\u001b[37mGET /videoURL?video=https://www.youtube.com/watch?v=_5jlfu8N1E0 HTTP/1.1\u001b[0m\" 200 -\n"
          ],
          "name": "stderr"
        },
        {
          "output_type": "stream",
          "text": [
            "[[0.26682392 0.7331761 ]]\n",
            "3\n",
            "3\n",
            "3\n",
            "3\n",
            "[[0.32835022 0.6716498 ]]\n",
            "Predicted: Violence\n",
            "https://www.youtube.com/watch?v=_5jlfu8N1E0\n",
            "Video DOWNLOADING STARTED\n",
            "[youtube] ULkzOl70pIQ: Downloading webpage\n",
            "[download] videoToTest.mp4 has already been downloaded and merged\n",
            "Video DOWNLOADED\n",
            "0\n",
            "0\n",
            "0\n",
            "0\n",
            "[[0.40085953 0.59914047]]\n",
            "1\n",
            "1\n",
            "1\n",
            "1\n",
            "[[0.3551537  0.64484626]]\n",
            "2\n",
            "2\n",
            "2\n",
            "2\n"
          ],
          "name": "stdout"
        },
        {
          "output_type": "stream",
          "text": [
            "127.0.0.1 - - [29/Jul/2021 01:49:37] \"\u001b[37mGET /videoURL?video=https://www.youtube.com/watch?v=_5jlfu8N1E0 HTTP/1.1\u001b[0m\" 200 -\n"
          ],
          "name": "stderr"
        },
        {
          "output_type": "stream",
          "text": [
            "[[0.26682392 0.7331761 ]]\n",
            "3\n",
            "3\n",
            "3\n",
            "3\n",
            "[[0.32835022 0.6716498 ]]\n",
            "Predicted: Violence\n",
            "https://www.youtube.com/\n",
            "Video DOWNLOADING STARTED\n",
            "[youtube] ULkzOl70pIQ: Downloading webpage\n",
            "[download] videoToTest.mp4 has already been downloaded and merged\n",
            "Video DOWNLOADED\n",
            "0\n",
            "0\n",
            "0\n",
            "0\n",
            "[[0.40085953 0.59914047]]\n",
            "1\n",
            "1\n",
            "1\n",
            "1\n",
            "[[0.3551537  0.64484626]]\n",
            "2\n",
            "2\n",
            "2\n",
            "2\n"
          ],
          "name": "stdout"
        },
        {
          "output_type": "stream",
          "text": [
            "127.0.0.1 - - [29/Jul/2021 01:50:31] \"\u001b[37mGET /videoURL?video=https://www.youtube.com/ HTTP/1.1\u001b[0m\" 200 -\n"
          ],
          "name": "stderr"
        },
        {
          "output_type": "stream",
          "text": [
            "[[0.26682392 0.7331761 ]]\n",
            "3\n",
            "3\n",
            "3\n",
            "3\n",
            "[[0.32835022 0.6716498 ]]\n",
            "Predicted: Violence\n",
            "https://www.youtube.com/watch?v=_5jlfu8N1E0\n",
            "Video DOWNLOADING STARTED\n",
            "[youtube] ULkzOl70pIQ: Downloading webpage\n",
            "[download] videoToTest.mp4 has already been downloaded and merged\n",
            "Video DOWNLOADED\n",
            "0\n",
            "0\n",
            "0\n",
            "0\n",
            "[[0.40085953 0.59914047]]\n",
            "1\n",
            "1\n",
            "1\n",
            "1\n",
            "[[0.3551537  0.64484626]]\n",
            "2\n",
            "2\n",
            "2\n",
            "2\n"
          ],
          "name": "stdout"
        },
        {
          "output_type": "stream",
          "text": [
            "127.0.0.1 - - [29/Jul/2021 01:50:56] \"\u001b[37mGET /videoURL?video=https://www.youtube.com/watch?v=_5jlfu8N1E0 HTTP/1.1\u001b[0m\" 200 -\n"
          ],
          "name": "stderr"
        },
        {
          "output_type": "stream",
          "text": [
            "[[0.26682392 0.7331761 ]]\n",
            "3\n",
            "3\n",
            "3\n",
            "3\n",
            "[[0.32835022 0.6716498 ]]\n",
            "Predicted: Violence\n",
            "https://www.youtube.com/watch?v=_5jlfu8N1E0\n",
            "Video DOWNLOADING STARTED\n",
            "[youtube] ULkzOl70pIQ: Downloading webpage\n",
            "[download] videoToTest.mp4 has already been downloaded and merged\n",
            "Video DOWNLOADED\n",
            "0\n",
            "0\n",
            "0\n",
            "0\n",
            "[[0.40085953 0.59914047]]\n",
            "1\n",
            "1\n",
            "1\n",
            "1\n",
            "[[0.3551537  0.64484626]]\n",
            "2\n",
            "2\n",
            "2\n",
            "2\n"
          ],
          "name": "stdout"
        },
        {
          "output_type": "stream",
          "text": [
            "127.0.0.1 - - [29/Jul/2021 01:51:12] \"\u001b[37mGET /videoURL?video=https://www.youtube.com/watch?v=_5jlfu8N1E0 HTTP/1.1\u001b[0m\" 200 -\n"
          ],
          "name": "stderr"
        },
        {
          "output_type": "stream",
          "text": [
            "[[0.26682392 0.7331761 ]]\n",
            "3\n",
            "3\n",
            "3\n",
            "3\n",
            "[[0.32835022 0.6716498 ]]\n",
            "Predicted: Violence\n",
            "https://www.youtube.com/watch?v=_5jlfu8N1E0\n",
            "Video DOWNLOADING STARTED\n",
            "[youtube] ULkzOl70pIQ: Downloading webpage\n",
            "[download] videoToTest.mp4 has already been downloaded and merged\n",
            "Video DOWNLOADED\n",
            "0\n",
            "0\n",
            "0\n",
            "0\n",
            "[[0.40085953 0.59914047]]\n",
            "1\n",
            "1\n",
            "1\n",
            "1\n",
            "[[0.3551537  0.64484626]]\n",
            "2\n",
            "2\n",
            "2\n",
            "2\n"
          ],
          "name": "stdout"
        },
        {
          "output_type": "stream",
          "text": [
            "127.0.0.1 - - [29/Jul/2021 01:51:59] \"\u001b[37mGET /videoURL?video=https://www.youtube.com/watch?v=_5jlfu8N1E0 HTTP/1.1\u001b[0m\" 200 -\n"
          ],
          "name": "stderr"
        },
        {
          "output_type": "stream",
          "text": [
            "[[0.26682392 0.7331761 ]]\n",
            "3\n",
            "3\n",
            "3\n",
            "3\n",
            "[[0.32835022 0.6716498 ]]\n",
            "Predicted: Violence\n",
            "https://www.youtube.com/watch?v=_5jlfu8N1E0\n",
            "Video DOWNLOADING STARTED\n",
            "[youtube] ULkzOl70pIQ: Downloading webpage\n",
            "[download] videoToTest.mp4 has already been downloaded and merged\n",
            "Video DOWNLOADED\n",
            "0\n",
            "0\n",
            "0\n",
            "0\n",
            "[[0.40085953 0.59914047]]\n",
            "1\n",
            "1\n",
            "1\n",
            "1\n",
            "[[0.3551537  0.64484626]]\n",
            "2\n",
            "2\n",
            "2\n",
            "2\n"
          ],
          "name": "stdout"
        },
        {
          "output_type": "stream",
          "text": [
            "127.0.0.1 - - [29/Jul/2021 01:53:35] \"\u001b[37mGET /videoURL?video=https://www.youtube.com/watch?v=_5jlfu8N1E0 HTTP/1.1\u001b[0m\" 200 -\n"
          ],
          "name": "stderr"
        },
        {
          "output_type": "stream",
          "text": [
            "[[0.26682392 0.7331761 ]]\n",
            "3\n",
            "3\n",
            "3\n",
            "3\n",
            "[[0.32835022 0.6716498 ]]\n",
            "Predicted: Violence\n",
            "https://www.youtube.com/watch?v=_5jlfu8N1E0\n",
            "Video DOWNLOADING STARTED\n",
            "[youtube] ULkzOl70pIQ: Downloading webpage\n",
            "[download] videoToTest.mp4 has already been downloaded and merged\n",
            "Video DOWNLOADED\n",
            "0\n",
            "0\n",
            "0\n",
            "0\n",
            "[[0.40085953 0.59914047]]\n",
            "1\n",
            "1\n",
            "1\n",
            "1\n",
            "[[0.3551537  0.64484626]]\n",
            "2\n",
            "2\n",
            "2\n",
            "2\n"
          ],
          "name": "stdout"
        },
        {
          "output_type": "stream",
          "text": [
            "127.0.0.1 - - [29/Jul/2021 01:53:56] \"\u001b[37mGET /videoURL?video=https://www.youtube.com/watch?v=_5jlfu8N1E0 HTTP/1.1\u001b[0m\" 200 -\n"
          ],
          "name": "stderr"
        },
        {
          "output_type": "stream",
          "text": [
            "[[0.26682392 0.7331761 ]]\n",
            "3\n",
            "3\n",
            "3\n",
            "3\n",
            "[[0.32835022 0.6716498 ]]\n",
            "Predicted: Violence\n",
            "https://www.youtube.com/watch?v=_5jlfu8N1E0\n",
            "Video DOWNLOADING STARTED\n",
            "[youtube] ULkzOl70pIQ: Downloading webpage\n",
            "[download] videoToTest.mp4 has already been downloaded and merged\n",
            "Video DOWNLOADED\n",
            "0\n",
            "0\n",
            "0\n",
            "0\n",
            "[[0.40085953 0.59914047]]\n",
            "1\n",
            "1\n",
            "1\n",
            "1\n",
            "[[0.3551537  0.64484626]]\n",
            "2\n",
            "2\n",
            "2\n",
            "2\n"
          ],
          "name": "stdout"
        },
        {
          "output_type": "stream",
          "text": [
            "127.0.0.1 - - [29/Jul/2021 01:55:38] \"\u001b[37mGET /videoURL?video=https://www.youtube.com/watch?v=_5jlfu8N1E0 HTTP/1.1\u001b[0m\" 200 -\n"
          ],
          "name": "stderr"
        },
        {
          "output_type": "stream",
          "text": [
            "[[0.26682392 0.7331761 ]]\n",
            "3\n",
            "3\n",
            "3\n",
            "3\n",
            "[[0.32835022 0.6716498 ]]\n",
            "Predicted: Violence\n"
          ],
          "name": "stdout"
        }
      ]
    },
    {
      "cell_type": "code",
      "metadata": {
        "colab": {
          "base_uri": "https://localhost:8080/"
        },
        "id": "-i1cr_y00T5T",
        "outputId": "a9035693-5c2b-4b7b-c846-834ba75ea933"
      },
      "source": [
        "# Testing the video downloader code\n",
        "\n",
        "from __future__ import unicode_literals\n",
        "import youtube_dl\n",
        "\n",
        "ydl_opts = {'outtmpl': 'videoToTest.mp4'}\n",
        "\n",
        "with youtube_dl.YoutubeDL(ydl_opts) as ydl:\n",
        "    ydl.download(['https://www.youtube.com/watch?v=ULkzOl70pIQ'])"
      ],
      "execution_count": null,
      "outputs": [
        {
          "output_type": "stream",
          "text": [
            "[youtube] ULkzOl70pIQ: Downloading webpage\n",
            "[download] Destination: videoToTest.f136.mp4\n",
            "[download] 100% of 19.87MiB in 00:01\n",
            "[download] Destination: videoToTest.mp4.f140\n",
            "[download] 100% of 3.45MiB in 00:00\n",
            "[ffmpeg] Merging formats into \"videoToTest.mp4\"\n",
            "Deleting original file videoToTest.f136.mp4 (pass -k to keep)\n",
            "Deleting original file videoToTest.mp4.f140 (pass -k to keep)\n"
          ],
          "name": "stdout"
        }
      ]
    }
  ]
}